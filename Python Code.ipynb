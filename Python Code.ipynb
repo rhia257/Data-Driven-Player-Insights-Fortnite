{
 "cells": [
  {
   "cell_type": "code",
   "execution_count": 4,
   "id": "e270433a-0a48-418e-a889-aa0cba02891e",
   "metadata": {},
   "outputs": [],
   "source": [
    "# Import library \n",
    "import pandas as pd "
   ]
  },
  {
   "cell_type": "code",
   "execution_count": 5,
   "id": "78bbbede-84ab-4f88-8d22-eec790c7f82a",
   "metadata": {},
   "outputs": [],
   "source": [
    "# Load dataset \n",
    "performance_df = pd.read_csv(\"Performance_Statistics.csv\") "
   ]
  },
  {
   "cell_type": "code",
   "execution_count": 6,
   "id": "a761bc87-0b94-4218-8bbc-5c1a5ac31273",
   "metadata": {},
   "outputs": [
    {
     "name": "stdout",
     "output_type": "stream",
     "text": [
      "Preview of dataset:\n",
      "   index   Date Time of Day  Placed Mental State  Eliminations  Assists  \\\n",
      "0      0  04/10       18:00      27        sober             2        0   \n",
      "1      1  04/10       18:00      45        sober             1        2   \n",
      "2      2  04/10       18:00      38         high             3        0   \n",
      "3      3  04/10       19:00      30         high             1        3   \n",
      "4      4  04/10       19:00      16         high             3        1   \n",
      "\n",
      "   Revives  Accuracy  Hits  Head Shots  Distance Traveled  Materials Gathered  \\\n",
      "0        0      0.23    14           2             271.08                  20   \n",
      "1        0      0.30    19           1             396.73                 123   \n",
      "2        0      0.30    32           1             607.80                  71   \n",
      "3        0      0.18    19           1             714.16                 244   \n",
      "4        1      0.58    42          18            1140.00                 584   \n",
      "\n",
      "   Materials Used  Damage Taken  Damage to Players  Damage to Structures  \n",
      "0              20           272                331                   621  \n",
      "1              30           247                444                   998  \n",
      "2              60           176                322                  1109  \n",
      "3              10           238                330                  4726  \n",
      "4             150           365                668                  2070  \n"
     ]
    }
   ],
   "source": [
    "# Preview first few rows of dataset \n",
    "print(\"Preview of dataset:\")  \n",
    "print(performance_df.head()) "
   ]
  },
  {
   "cell_type": "code",
   "execution_count": 7,
   "id": "9a3ba9bb-a972-4f90-9b27-82d6c77b265a",
   "metadata": {},
   "outputs": [
    {
     "name": "stdout",
     "output_type": "stream",
     "text": [
      "Updated column names:\n",
      "Index(['index', 'date', 'time of day', 'placed', 'mental state',\n",
      "       'eliminations', 'assists', 'revives', 'accuracy', 'hits', 'head shots',\n",
      "       'distance traveled', 'materials gathered', 'materials used',\n",
      "       'damage taken', 'damage to players', 'damage to structures'],\n",
      "      dtype='object')\n"
     ]
    }
   ],
   "source": [
    "# DATA CLEANING \n",
    "# Standardise column names \n",
    "performance_df.columns = performance_df.columns.str.lower() \n",
    "# Confirm column name update \n",
    "print(\"Updated column names:\")\n",
    "print(performance_df.columns) "
   ]
  },
  {
   "cell_type": "code",
   "execution_count": 8,
   "id": "537d178a-7666-4232-bf90-c628c35392a6",
   "metadata": {},
   "outputs": [
    {
     "name": "stdout",
     "output_type": "stream",
     "text": [
      "Missing values per column:\n",
      "index                   0\n",
      "date                    0\n",
      "time of day             0\n",
      "placed                  0\n",
      "mental state            0\n",
      "eliminations            0\n",
      "assists                 0\n",
      "revives                 0\n",
      "accuracy                0\n",
      "hits                    0\n",
      "head shots              0\n",
      "distance traveled       0\n",
      "materials gathered      0\n",
      "materials used          0\n",
      "damage taken            0\n",
      "damage to players       0\n",
      "damage to structures    0\n",
      "dtype: int64\n"
     ]
    }
   ],
   "source": [
    "# Check for missing values \n",
    "print(\"Missing values per column:\")  \n",
    "print(performance_df.isnull().sum()) "
   ]
  },
  {
   "cell_type": "code",
   "execution_count": 9,
   "id": "d5917df7-83da-4c8a-8638-9477e0dd1737",
   "metadata": {},
   "outputs": [],
   "source": [
    "# Drop duplicate rows \n",
    "performance_df.drop_duplicates(inplace=True) "
   ]
  },
  {
   "cell_type": "code",
   "execution_count": 10,
   "id": "528fecdd-e13c-42db-a785-d544df3d4d04",
   "metadata": {},
   "outputs": [
    {
     "name": "stdout",
     "output_type": "stream",
     "text": [
      "Eliminations > 100:\n",
      "Empty DataFrame\n",
      "Columns: [index, date, time of day, placed, mental state, eliminations, assists, revives, accuracy, hits, head shots, distance traveled, materials gathered, materials used, damage taken, damage to players, damage to structures]\n",
      "Index: []\n",
      "Placement < 1 (invalid placement):\n",
      "Empty DataFrame\n",
      "Columns: [index, date, time of day, placed, mental state, eliminations, assists, revives, accuracy, hits, head shots, distance traveled, materials gathered, materials used, damage taken, damage to players, damage to structures]\n",
      "Index: []\n"
     ]
    }
   ],
   "source": [
    "# Check for impossible values \n",
    "print(\"Eliminations > 100:\")  \n",
    "print(performance_df[performance_df[\"eliminations\"] > 100]) \n",
    "print(\"Placement < 1 (invalid placement):\")  \n",
    "print(performance_df[performance_df[\"placed\"] < 1]) "
   ]
  },
  {
   "cell_type": "code",
   "execution_count": 11,
   "id": "fd85ce54-71bc-48bc-bbbc-ecb21e839819",
   "metadata": {},
   "outputs": [
    {
     "name": "stdout",
     "output_type": "stream",
     "text": [
      "Updated dataset with 'headshot_accuracy' column:\n",
      "   index   date time of day  placed mental state  eliminations  assists  \\\n",
      "0      0  04/10       18:00      27        sober             2        0   \n",
      "1      1  04/10       18:00      45        sober             1        2   \n",
      "2      2  04/10       18:00      38         high             3        0   \n",
      "3      3  04/10       19:00      30         high             1        3   \n",
      "4      4  04/10       19:00      16         high             3        1   \n",
      "\n",
      "   revives  accuracy  hits  head shots  distance traveled  materials gathered  \\\n",
      "0        0      0.23    14           2             271.08                  20   \n",
      "1        0      0.30    19           1             396.73                 123   \n",
      "2        0      0.30    32           1             607.80                  71   \n",
      "3        0      0.18    19           1             714.16                 244   \n",
      "4        1      0.58    42          18            1140.00                 584   \n",
      "\n",
      "   materials used  damage taken  damage to players  damage to structures  \\\n",
      "0              20           272                331                   621   \n",
      "1              30           247                444                   998   \n",
      "2              60           176                322                  1109   \n",
      "3              10           238                330                  4726   \n",
      "4             150           365                668                  2070   \n",
      "\n",
      "   headshot_accuracy  \n",
      "0                 14  \n",
      "1                  5  \n",
      "2                  3  \n",
      "3                  5  \n",
      "4                 43  \n"
     ]
    }
   ],
   "source": [
    "# DATA TRANSFORMATION AND ANALYSIS \n",
    "# Calculate headshot accuracy (%) = headshots / hits * 100 \n",
    "performance_df[\"headshot_accuracy\"] = (performance_df[\"head shots\"] / performance_df[\"hits\"] * 100).round(0).astype(int) \n",
    "\n",
    "# Replace any missing or invalid values with 0 (including division by zero) \n",
    "performance_df[\"headshot_accuracy\"] = performance_df[\"headshot_accuracy\"].fillna(0) \n",
    "\n",
    "# Print first few rows to confirm the new column is added \n",
    "print(\"Updated dataset with 'headshot_accuracy' column:\")  \n",
    "print(performance_df.head()) "
   ]
  },
  {
   "cell_type": "code",
   "execution_count": 12,
   "id": "7de195fd-8dd1-4704-bf87-8ac1707eb33e",
   "metadata": {},
   "outputs": [
    {
     "name": "stdout",
     "output_type": "stream",
     "text": [
      "Minimum eliminations: 0\n",
      "Maximum eliminations: 8\n",
      "Average eliminations: 2.52\n"
     ]
    }
   ],
   "source": [
    "# Inspect data to choose elimination category thresholds \n",
    "print(\"Minimum eliminations:\", performance_df[\"eliminations\"].min())  \n",
    "print(\"Maximum eliminations:\", performance_df[\"eliminations\"].max())  \n",
    "print(\"Average eliminations:\", round(performance_df[\"eliminations\"].mean(), 2)) "
   ]
  },
  {
   "cell_type": "code",
   "execution_count": 13,
   "id": "e98f276d-1c4c-40ee-a8a7-f6962daa7bcc",
   "metadata": {},
   "outputs": [],
   "source": [
    "# Categorise players’ ability based on their number of eliminations/kills \n",
    "def categorise_elims(x):  \n",
    "    if x <= 2:  \n",
    "        return \"Low\"  \n",
    "    elif x <= 5:  \n",
    "        return \"Medium\"  \n",
    "    else:  \n",
    "        return \"High\" \n",
    "performance_df[\"elimination_category\"] = performance_df[\"eliminations\"].apply(categorise_elims) "
   ]
  },
  {
   "cell_type": "code",
   "execution_count": 14,
   "id": "04e031db-65b1-43c5-9bcd-9bc08f76a602",
   "metadata": {},
   "outputs": [
    {
     "name": "stdout",
     "output_type": "stream",
     "text": [
      "elimination_category\n",
      "Low       51\n",
      "Medium    27\n",
      "High       9\n",
      "Name: count, dtype: int64\n",
      "elimination_category\n",
      "Low       58.620690\n",
      "Medium    31.034483\n",
      "High      10.344828\n",
      "Name: proportion, dtype: float64\n"
     ]
    }
   ],
   "source": [
    "# Count of players in each elimination category \n",
    "print(performance_df[\"elimination_category\"].value_counts()) \n",
    "\n",
    "# Proportion (%) of each category \n",
    "print(performance_df[\"elimination_category\"].value_counts(normalize=True) * 100)"
   ]
  },
  {
   "cell_type": "code",
   "execution_count": 15,
   "id": "81eeb451-d0bb-4f99-b2b9-79af84b0af1f",
   "metadata": {},
   "outputs": [
    {
     "name": "stdout",
     "output_type": "stream",
     "text": [
      "Average stats per elimination category:\n",
      "                      eliminations  headshot_accuracy\n",
      "elimination_category                                 \n",
      "High                          6.56              15.11\n",
      "Low                           1.24              17.31\n",
      "Medium                        3.59              16.44\n"
     ]
    }
   ],
   "source": [
    "# Average eliminations and headshot accuracy per elimination category \n",
    "print(\"Average stats per elimination category:\")  \n",
    "print(performance_df.groupby(\"elimination_category\")[[\"eliminations\", \"headshot_accuracy\"]].mean().round(2)) "
   ]
  },
  {
   "cell_type": "code",
   "execution_count": 16,
   "id": "c9eda38e-1224-4592-960f-b0e377173ae1",
   "metadata": {},
   "outputs": [
    {
     "name": "stdout",
     "output_type": "stream",
     "text": [
      "Average eliminations by time of day:\n",
      "time of day\n",
      "01:00 PM    1.00\n",
      "02:00 PM    2.00\n",
      "10:00 PM    1.00\n",
      "11:00 PM    3.00\n",
      "12:00       2.50\n",
      "12:00 AM    6.00\n",
      "13:00       2.25\n",
      "14:00       3.06\n",
      "15:00       2.33\n",
      "16:00       1.80\n",
      "17:00       1.33\n",
      "18:00       2.43\n",
      "19:00       2.40\n",
      "20:00       2.64\n",
      "21:00       2.25\n",
      "22:00       3.00\n",
      "23:00       2.67\n",
      "Name: eliminations, dtype: float64\n"
     ]
    }
   ],
   "source": [
    "# Average eliminations per time of day \n",
    "print(\"Average eliminations by time of day:\") \n",
    "print(performance_df.groupby(\"time of day\")[\"eliminations\"].mean().round(2))"
   ]
  },
  {
   "cell_type": "code",
   "execution_count": 17,
   "id": "bb9d9358-c5ba-4081-bb2b-981839c0ff8f",
   "metadata": {},
   "outputs": [
    {
     "name": "stdout",
     "output_type": "stream",
     "text": [
      "Average eliminations by mental state:\n",
      "mental state\n",
      "high     2.50\n",
      "sober    2.53\n",
      "Name: eliminations, dtype: float64\n"
     ]
    }
   ],
   "source": [
    "# Average eliminations per mental state \n",
    "print(\"Average eliminations by mental state:\") \n",
    "print(performance_df.groupby(\"mental state\")[\"eliminations\"].mean().round(2)) "
   ]
  },
  {
   "cell_type": "code",
   "execution_count": 18,
   "id": "ed7c2b55-4f1f-4b43-8398-12beee2752fd",
   "metadata": {},
   "outputs": [
    {
     "name": "stdout",
     "output_type": "stream",
     "text": [
      "Saved cleaned dataset as 'fortnite_cleaned_project.csv'\n"
     ]
    }
   ],
   "source": [
    "# EXPORT CLEANED DATA \n",
    "performance_df.to_csv(\"fortnite_cleaned_project.csv\", index=False)  \n",
    "print(\"Saved cleaned dataset as 'fortnite_cleaned_project.csv'\") "
   ]
  }
 ],
 "metadata": {
  "kernelspec": {
   "display_name": "Python 3 (ipykernel)",
   "language": "python",
   "name": "python3"
  },
  "language_info": {
   "codemirror_mode": {
    "name": "ipython",
    "version": 3
   },
   "file_extension": ".py",
   "mimetype": "text/x-python",
   "name": "python",
   "nbconvert_exporter": "python",
   "pygments_lexer": "ipython3",
   "version": "3.13.5"
  }
 },
 "nbformat": 4,
 "nbformat_minor": 5
}
